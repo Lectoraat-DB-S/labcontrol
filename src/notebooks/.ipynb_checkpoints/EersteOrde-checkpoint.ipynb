{
 "cells": [
  {
   "cell_type": "code",
   "execution_count": 1,
   "id": "5dc11e2b-0810-4d3e-9a72-bb4a7ace9f28",
   "metadata": {},
   "outputs": [
    {
     "name": "stdout",
     "output_type": "stream",
     "text": [
      "python-control 0.10.1\n"
     ]
    }
   ],
   "source": [
    "import numpy as np\n",
    "import matplotlib.pyplot as plt\n",
    "\n",
    "# Import the python-control package\n",
    "try:\n",
    "    import control as ct\n",
    "    print(\"python-control\", ct.__version__)\n",
    "except ImportError:\n",
    "    %pip install control\n",
    "    import control as ct"
   ]
  },
  {
   "cell_type": "code",
   "execution_count": 2,
   "id": "7c8994f5-5e9e-436c-a167-c570a2bb2fb9",
   "metadata": {},
   "outputs": [],
   "source": [
    "s = ct.tf('s')\n",
    "R=1e3\n",
    "C=10e-6\n",
    "RC=1/(1+s*R*C)"
   ]
  },
  {
   "cell_type": "code",
   "execution_count": null,
   "id": "7b916a59-edaf-4dbd-ae75-dd27b7f5e989",
   "metadata": {},
   "outputs": [],
   "source": [
    "response = ct.frequency_response([VCVS2])\n",
    "ct.bode_plot(response, initial_phase=0)"
   ]
  }
 ],
 "metadata": {
  "kernelspec": {
   "display_name": "Python 3 (ipykernel)",
   "language": "python",
   "name": "python3"
  },
  "language_info": {
   "codemirror_mode": {
    "name": "ipython",
    "version": 3
   },
   "file_extension": ".py",
   "mimetype": "text/x-python",
   "name": "python",
   "nbconvert_exporter": "python",
   "pygments_lexer": "ipython3",
   "version": "3.12.7"
  }
 },
 "nbformat": 4,
 "nbformat_minor": 5
}
