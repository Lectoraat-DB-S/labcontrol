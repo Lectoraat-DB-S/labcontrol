{
 "cells": [
  {
   "cell_type": "markdown",
   "id": "2e2c5af3",
   "metadata": {},
   "source": [
    "# Belangrijke eigenschappen van een NPN BJT\n",
    "\n",
    "Een NPN transistor is een halfgeleiderdevice met drie aansluitingen: basis (B), collector (C) en emitter (E). Een transistor is een signaalversterkend component: het spanningsverschil tussen basis en de emitter (VBE), bepaalt de hoeveelheid stroom (Ic) die gaat lopen. Met een eenvoudige schakeling kan dit gedrag nagemeten worden. In onderstaand figuur zie je het meetschema:\n",
    "\n",
    "<img src='./images/meting_HFE.png' width='25%'/> \n",
    "\n",
    "In dit meetschema worden de volgende componenten gebruikt:\n",
    "* $R_1$ = 100k\n",
    "* $R_2$ = 47 $\\Omega$\n",
    "* $Q_1$ =  BC550 of vergelijkbaar\n",
    "* $V_{CC}$ = DC voeding 15V, stroombeperking 100mA.\n",
    "* $V_{BB}$ = Instelbare DC voeding 0-5V, stroombeperking 10mA.\n",
    "\n",
    "Voor de volledigheid is dit schema uitgewerkt tot een volledig meetschema, waarbij de benodigde spanningsbronnen en overige apparatuur wordt weergegeven.\n",
    "\n",
    "<img src='./images/HFE_meetschema_compleet.png' width='50%'/>\n",
    "\n",
    "1. $V_{BB}$: Instelbare DC bron (kanaal 1)\n",
    "2. $V_{CC}$: Instelbare DC bron (kanaal 2)\n",
    "3. $C_1$: multilayer 100nF condensator, voor ontkoppeling van de voedingspanning ($V_{CC}$)\n",
    "4. Ampèremeter: gebruik hiervoor de digitale multimeter (DMM). Let op: correct aansluiten!\n",
    "5. Oscilloscoop: gebruik de oscilloscoop om de DC spanningen $V_B$ (kanaal 1 oscilloscoop) en $V_C$ (kanaal 2) te meten\n",
    "\n",
    "# Uitvoering HFE meting\n",
    "1. Lees van de behuizing van de transistor het typenummer en model af. Bijvoorbeeld: BC547A, BC550C. Let dus ook op een eventuele letter.\n",
    "2. Zoek in een datasheet op welke stroomsversterkingsfactor jouw transistor heeft. Deze factor geeft aan hoeveel keer $I_C$ groter is dan $I_B$.  Een datasheet geeft deze informatie als een getal zonder dimensie en wordt vaak aangeduid als HFE, hFE of β. Zoek deze waarde op in de datasheet van jouw transistor en neem deze waarde op in jouw logboek.\n",
    "3. Meet de waarden van $R_1$ en $R_2$ nauwkeurig na met de Digitale MultiMeter (DMM) en schrijf de waarden op. Gebruik het apparaat dat op je werkbank staat en dus niet jouw eigen multimeter.\n",
    "4. Stel kanaal 2 van de labvoeding in op 15V en meet de ingestelde spanning nauwkeurig na met de DMM. Neem de gemeten waarden op in jouw logboek evenals de waarde die op het display staat van de voedingsbron\n",
    "5. Bouw de schakeling op een breadboard.\n",
    "6. Laat $V_{BB}$ oplopen van 0 tot 5 V, in stapjes van 0.5V. Bij elke ingestelde waarde van $V_{BB}$, moet je de volgende waarden meten: $V_B$, $V_C$ en $I_C$. Maak een meettabel!\n",
    "7. Bereken, bij elke waarde van $V_{BB}$, de waarde van $I_B$ en $I_C$ . Gebruik daarvoor de nauwkeurig gemeten waarden van R1 en R2. Tip: gebruik SciLab, Excel of Python om de meetdata te verwerken.\n",
    "8. Bereken op basis van $I_B$ en $I_C$ telkens HFE. Tip: gebruik SciLab, Excel of Python om jouw meetdata te verwerken.\n",
    "9. Maak de volgende plots:\n",
    "\t* Zet $I_C$ uit tegen $I_B$ (HFE plot)\n",
    "\t* Zet $I_B$ uit tegen $V_{BE}$ \n",
    "\t* Zet $I_C$ uit tegen $V_{BE}$\n",
    "10. Markeer in jouw  $I_C$ - $V_{BE}$ karakteristiek, het punt waar de collectorstroom ($I_C$) gelijk is aan 10 mA. Noem dit punt $I_{C,Q}$. Dit punt heet 'instelpunt', waarbij Q staat voor “quiescent” (Engels), dat “inactief, rust” betekent.\n",
    "\t* Welke waarde heeft $V_{BE}$ in dit punt $I_{C,Q}$?\n",
    "\t* Teken een raaklijn aan de $I_C$ - $V_{BE}$ karakteristiek in punt ($V_{BE,Q}$ , $I_{C,Q}$)\n",
    "\t* Bereken de helling van de lijn.\n",
    "\t* Welke eenheid heeft deze helling?\n",
    "\t* Welke fysieke eigenschap of grootheid wordt met deze eenheid aangegeven?\n",
    "11. Markeer het punt $V_{BE,Q}$ in jouw $I_B$ - $V_{BE}$ karakteristiek\n",
    "\t* Hoe groot is de basisstroom $I_B$ in het punt $V_{BE,Q}$?\n",
    "\t* Teken een raaklijn aan de $I_B$ - $V_{BE}$ karakteristiek in het punt ($V_{BE,Q}$ , $I_{B,Q}$)\n",
    "\t* Bereken de helling van de lijn.\n",
    "\t* Welke eenheid hoort bij deze helling? Schrijf deze op!\n",
    "\t* Draai de eenheid om: welke eigenschap hoort bij deze helling?\n",
    "\t* Wat kun je hiermee modelleren? \n",
    "12. Laat deze opdracht aftekenen!!\n",
    "\n"
   ]
  },
  {
   "cell_type": "code",
   "execution_count": null,
   "id": "32e7394f",
   "metadata": {
    "vscode": {
     "languageId": "plaintext"
    }
   },
   "outputs": [],
   "source": []
  }
 ],
 "metadata": {
  "language_info": {
   "name": "python"
  }
 },
 "nbformat": 4,
 "nbformat_minor": 5
}
